{
  "cells": [
    {
      "cell_type": "markdown",
      "metadata": {
        "id": "ZINQrww1EboC"
      },
      "source": [
        "**Problem 1**\n",
        "\n",
        "Import Numpy as np"
      ]
    },
    {
      "cell_type": "code",
      "execution_count": 1,
      "metadata": {
        "id": "hOtevzjWrR-R"
      },
      "outputs": [],
      "source": [
        "\n",
        "import numpy as np"
      ]
    },
    {
      "cell_type": "markdown",
      "metadata": {
        "id": "K57VSkdZOhlC"
      },
      "source": [
        "**Problem 2**\n",
        "\n",
        "Create a 1D array of numbers from 0 to 9."
      ]
    },
    {
      "cell_type": "code",
      "execution_count": 3,
      "metadata": {
        "id": "EBKnp8nDOpq2"
      },
      "outputs": [
        {
          "data": {
            "text/plain": [
              "array([0, 1, 2, 3, 4, 5, 6, 7, 8, 9])"
            ]
          },
          "execution_count": 3,
          "metadata": {},
          "output_type": "execute_result"
        }
      ],
      "source": [
        "np.array([0,1,2,3,4,5,6,7,8,9])"
      ]
    },
    {
      "cell_type": "code",
      "execution_count": 5,
      "metadata": {},
      "outputs": [
        {
          "data": {
            "text/plain": [
              "array([0, 1, 2, 3, 4, 5, 6, 7, 8, 9])"
            ]
          },
          "execution_count": 5,
          "metadata": {},
          "output_type": "execute_result"
        }
      ],
      "source": [
        "np.arange(0,10)"
      ]
    },
    {
      "cell_type": "markdown",
      "metadata": {},
      "source": []
    },
    {
      "cell_type": "markdown",
      "metadata": {
        "id": "DpYFqU4XOwDO"
      },
      "source": [
        "**Problem 3**\n",
        "\n",
        "Create a 3×3 numpy array of all True’s."
      ]
    },
    {
      "cell_type": "code",
      "execution_count": null,
      "metadata": {},
      "outputs": [],
      "source": [
        "array_true=np.full([3,3],True)"
      ]
    },
    {
      "cell_type": "code",
      "execution_count": 7,
      "metadata": {
        "id": "40dFQCLAO-fT"
      },
      "outputs": [
        {
          "data": {
            "text/plain": [
              "array([[ True,  True,  True],\n",
              "       [ True,  True,  True],\n",
              "       [ True,  True,  True]])"
            ]
          },
          "execution_count": 7,
          "metadata": {},
          "output_type": "execute_result"
        }
      ],
      "source": [
        "array2=np.ones((3,3),dtype=bool)\n",
        "array2"
      ]
    },
    {
      "cell_type": "markdown",
      "metadata": {
        "id": "r8xDn0etO_Hn"
      },
      "source": [
        "**Problem 4**\n",
        "\n",
        "Extract all odd numbers from arr."
      ]
    },
    {
      "cell_type": "code",
      "execution_count": 8,
      "metadata": {
        "id": "_FeV7PzjPIJ7"
      },
      "outputs": [
        {
          "data": {
            "text/plain": [
              "array([1, 3, 5, 7, 9])"
            ]
          },
          "execution_count": 8,
          "metadata": {},
          "output_type": "execute_result"
        }
      ],
      "source": [
        "arr = np.array([0, 1, 2, 3, 4, 5, 6, 7, 8, 9])\n",
        "condition=np.mod(arr,2)==1\n",
        "np.extract(condition,arr)\n",
        "\n"
      ]
    },
    {
      "cell_type": "code",
      "execution_count": 27,
      "metadata": {},
      "outputs": [
        {
          "ename": "TypeError",
          "evalue": "'numpy.ndarray' object is not callable",
          "output_type": "error",
          "traceback": [
            "\u001b[1;31m---------------------------------------------------------------------------\u001b[0m",
            "\u001b[1;31mTypeError\u001b[0m                                 Traceback (most recent call last)",
            "Cell \u001b[1;32mIn[27], line 1\u001b[0m\n\u001b[1;32m----> 1\u001b[0m b\u001b[39m=\u001b[39marr(arr\u001b[39m%\u001b[39;49m\u001b[39m2\u001b[39;49m\u001b[39m!=\u001b[39;49m\u001b[39m0\u001b[39;49m)\n\u001b[0;32m      2\u001b[0m b\n",
            "\u001b[1;31mTypeError\u001b[0m: 'numpy.ndarray' object is not callable"
          ]
        }
      ],
      "source": [
        "b=arr(arr%2!=0)\n",
        "b"
      ]
    },
    {
      "cell_type": "markdown",
      "metadata": {
        "id": "PMDxdKKvPaQy"
      },
      "source": [
        "**Problem 5**\n",
        "\n",
        "Replace all odd numbers in arr with -1."
      ]
    },
    {
      "cell_type": "code",
      "execution_count": null,
      "metadata": {},
      "outputs": [],
      "source": []
    },
    {
      "cell_type": "code",
      "execution_count": 15,
      "metadata": {
        "id": "utoQqbgNPj72"
      },
      "outputs": [
        {
          "data": {
            "text/plain": [
              "array([ 0, -1,  2, -1,  4, -1,  6, -1,  8, -1])"
            ]
          },
          "execution_count": 15,
          "metadata": {},
          "output_type": "execute_result"
        }
      ],
      "source": [
        "arr = np.array([0, 1, 2, 3, 4, 5, 6, 7, 8, 9])\n",
        "arr[arr%2==1]=-1\n",
        "arr\n"
      ]
    },
    {
      "cell_type": "markdown",
      "metadata": {
        "id": "KXZ1Hw1WP0fk"
      },
      "source": [
        "**Problem 6**\n",
        "\n",
        "Convert a 1D array to a 2D array with 2 rows."
      ]
    },
    {
      "cell_type": "code",
      "execution_count": 18,
      "metadata": {
        "id": "9Vgx6sjTP8kj"
      },
      "outputs": [
        {
          "data": {
            "text/plain": [
              "array([[0, 1, 2, 3, 4],\n",
              "       [5, 6, 7, 8, 9]])"
            ]
          },
          "execution_count": 18,
          "metadata": {},
          "output_type": "execute_result"
        }
      ],
      "source": [
        "arr1=np.arange(10)\n",
        "np.reshape(arr1,(2,5))"
      ]
    },
    {
      "cell_type": "markdown",
      "metadata": {
        "id": "oeZS60tuQB-L"
      },
      "source": [
        "**Problem 7** \n",
        "\n",
        "Stack arrays a and b vertically."
      ]
    },
    {
      "cell_type": "code",
      "execution_count": 24,
      "metadata": {
        "id": "xdIpealnQFnN"
      },
      "outputs": [
        {
          "data": {
            "text/plain": [
              "array([[0, 1, 2, 3, 4],\n",
              "       [5, 6, 7, 8, 9],\n",
              "       [1, 1, 1, 1, 1],\n",
              "       [1, 1, 1, 1, 1]])"
            ]
          },
          "execution_count": 24,
          "metadata": {},
          "output_type": "execute_result"
        }
      ],
      "source": [
        "a = np.arange(10).reshape(2,-1)\n",
        "b = np.repeat(1, 10).reshape(2,-1)\n",
        "np.vstack((a,b))"
      ]
    },
    {
      "cell_type": "markdown",
      "metadata": {
        "id": "zK-hXr8TQcfr"
      },
      "source": [
        "**Problem 8**\n",
        "\n",
        "Stack the arrays a and b horizontally."
      ]
    },
    {
      "cell_type": "code",
      "execution_count": 25,
      "metadata": {
        "id": "ZNxJNgcyQg7T"
      },
      "outputs": [
        {
          "data": {
            "text/plain": [
              "array([[0, 1, 2, 3, 4, 1, 1, 1, 1, 1],\n",
              "       [5, 6, 7, 8, 9, 1, 1, 1, 1, 1]])"
            ]
          },
          "execution_count": 25,
          "metadata": {},
          "output_type": "execute_result"
        }
      ],
      "source": [
        "np.hstack((a,b))"
      ]
    },
    {
      "cell_type": "markdown",
      "metadata": {
        "id": "tUcrp_8tQwra"
      },
      "source": [
        "**Problem 9**\n",
        "\n",
        "Get the common items between a and b."
      ]
    },
    {
      "cell_type": "code",
      "execution_count": 26,
      "metadata": {
        "id": "H-HeXTDAQ-Ia"
      },
      "outputs": [
        {
          "data": {
            "text/plain": [
              "array([2, 4])"
            ]
          },
          "execution_count": 26,
          "metadata": {},
          "output_type": "execute_result"
        }
      ],
      "source": [
        "a = np.array([1,2,3,2,3,4,3,4,5,6])\n",
        "b = np.array([7,2,10,2,7,4,9,4,9,8])\n",
        "np.intersect1d(a,b)"
      ]
    },
    {
      "cell_type": "markdown",
      "metadata": {
        "id": "QJZuspVHREN2"
      },
      "source": [
        "**Problem 10**\n",
        "\n",
        "From array a remove all items present in array b"
      ]
    },
    {
      "cell_type": "code",
      "execution_count": 34,
      "metadata": {
        "id": "Si34slDHRI3Z"
      },
      "outputs": [
        {
          "data": {
            "text/plain": [
              "array([1, 2, 3, 4])"
            ]
          },
          "execution_count": 34,
          "metadata": {},
          "output_type": "execute_result"
        }
      ],
      "source": [
        "a = np.array([1,2,3,4,5])\n",
        "b = np.array([5,6,7,8,9])\n",
        "array=np.setdiff1d(a,b)\n",
        "array"
      ]
    },
    {
      "cell_type": "markdown",
      "metadata": {
        "id": "Kds0TCX9RP17"
      },
      "source": [
        "**Problem 11**\n",
        "\n",
        "Get the positions where elements of a and b match"
      ]
    },
    {
      "cell_type": "code",
      "execution_count": 38,
      "metadata": {
        "id": "IfHkCtxBRToJ"
      },
      "outputs": [
        {
          "name": "stdout",
          "output_type": "stream",
          "text": [
            "(array([1, 3, 5, 7], dtype=int64),)\n"
          ]
        }
      ],
      "source": [
        "a = np.array([1,2,3,2,3,4,3,4,5,6])\n",
        "b = np.array([7,2,10,2,7,4,9,4,9,8])\n",
        "print(np.where(a==b))\n"
      ]
    },
    {
      "cell_type": "markdown",
      "metadata": {
        "id": "XfB9DvvwRbhI"
      },
      "source": [
        "**Problem 12** \n",
        "\n",
        "Get all items between 5 and 10 from a."
      ]
    },
    {
      "cell_type": "code",
      "execution_count": 40,
      "metadata": {
        "id": "QTVXeUUHRkJW"
      },
      "outputs": [
        {
          "data": {
            "text/plain": [
              "array([6, 1, 9])"
            ]
          },
          "execution_count": 40,
          "metadata": {},
          "output_type": "execute_result"
        }
      ],
      "source": [
        "a = np.array([2,5, 6, 1, 9, 10, 3, 27])\n",
        "a[2:5]"
      ]
    },
    {
      "cell_type": "markdown",
      "metadata": {
        "id": "KfcEtysHRoPx"
      },
      "source": [
        "**Problem 13**\n",
        "\n",
        "Swap columns 1 and 2 in the array arr."
      ]
    },
    {
      "cell_type": "code",
      "execution_count": 53,
      "metadata": {
        "id": "fo33bz2ARx0b"
      },
      "outputs": [
        {
          "data": {
            "text/plain": [
              "array([[1, 0, 2],\n",
              "       [4, 3, 5],\n",
              "       [7, 6, 8]])"
            ]
          },
          "execution_count": 53,
          "metadata": {},
          "output_type": "execute_result"
        }
      ],
      "source": [
        "arr = np.arange(9).reshape(3,3)\n",
        "arr\n",
        "arr[:,[0,1]]=arr[:,[1,0]]\n",
        "arr\n"
      ]
    },
    {
      "cell_type": "markdown",
      "metadata": {
        "id": "e5qFi-P_R18E"
      },
      "source": [
        "**Problem 14**\n",
        "\n",
        "Swap rows 1 and 2 in the array arr."
      ]
    },
    {
      "cell_type": "code",
      "execution_count": 60,
      "metadata": {
        "id": "ieV5B7zYR6KQ"
      },
      "outputs": [
        {
          "data": {
            "text/plain": [
              "array([[3, 4, 5],\n",
              "       [0, 1, 2],\n",
              "       [6, 7, 8]])"
            ]
          },
          "execution_count": 60,
          "metadata": {},
          "output_type": "execute_result"
        }
      ],
      "source": [
        "arr = np.arange(9).reshape(3,3)\n",
        "arr\n",
        "arr[(0,1),:]=arr[(1,0),:]\n",
        "arr\n"
      ]
    },
    {
      "cell_type": "markdown",
      "metadata": {
        "id": "ZIY9it8hSArU"
      },
      "source": [
        "**Problem 15**\n",
        "\n",
        "Reverse the rows of a 2D array arr."
      ]
    },
    {
      "cell_type": "code",
      "execution_count": 62,
      "metadata": {
        "id": "hOmvemu-SEsS"
      },
      "outputs": [
        {
          "data": {
            "text/plain": [
              "array([[2, 1, 0],\n",
              "       [5, 4, 3],\n",
              "       [8, 7, 6]])"
            ]
          },
          "execution_count": 62,
          "metadata": {},
          "output_type": "execute_result"
        }
      ],
      "source": [
        "arr = np.arange(9).reshape(3,3)\n",
        "arr2=np.fliplr(arr)\n",
        "arr2"
      ]
    },
    {
      "cell_type": "markdown",
      "metadata": {
        "id": "oSgPt_TdSVDy"
      },
      "source": [
        "**Problem 16**\n",
        "\n",
        "Reverse the columns of a 2D array arr."
      ]
    },
    {
      "cell_type": "code",
      "execution_count": 80,
      "metadata": {
        "id": "aWxmDyDISZcD"
      },
      "outputs": [
        {
          "data": {
            "text/plain": [
              "array([[6, 7, 8],\n",
              "       [3, 4, 5],\n",
              "       [0, 1, 2]])"
            ]
          },
          "execution_count": 80,
          "metadata": {},
          "output_type": "execute_result"
        }
      ],
      "source": [
        "arr = np.arange(9).reshape(3,3)\n",
        "#np.flip(arr)\n",
        "arr=np.flipud(arr)\n",
        "arr"
      ]
    },
    {
      "cell_type": "markdown",
      "metadata": {
        "id": "d2R7iAovSf3I"
      },
      "source": [
        "**Problem 17**\n",
        "\n",
        "Create a 2D array of shape 5x3 to contain random decimal numbers between 5 and 10"
      ]
    },
    {
      "cell_type": "code",
      "execution_count": 73,
      "metadata": {
        "id": "WHHJ70XCSoQw"
      },
      "outputs": [
        {
          "data": {
            "text/plain": [
              "array([[0.17292473, 0.27561893, 0.13335613],\n",
              "       [0.04959972, 0.24477309, 0.85098591],\n",
              "       [0.21406227, 0.77496681, 0.14523118],\n",
              "       [0.58135099, 0.09574047, 0.55975199],\n",
              "       [0.22305911, 0.03453934, 0.23509318]])"
            ]
          },
          "execution_count": 73,
          "metadata": {},
          "output_type": "execute_result"
        }
      ],
      "source": [
        "arr=np.random.uniform(0,1,(5,3))\n",
        "arr"
      ]
    },
    {
      "cell_type": "markdown",
      "metadata": {
        "id": "NBCPj9PVSvvS"
      },
      "source": [
        "**Problem 18**\n",
        "\n",
        "Print or show only 3 decimal places of the numpy array rand_arr."
      ]
    },
    {
      "cell_type": "code",
      "execution_count": 75,
      "metadata": {
        "id": "w3LjmoNxS7V9"
      },
      "outputs": [
        {
          "data": {
            "text/plain": [
              "array([[0.72, 0.03, 0.79],\n",
              "       [0.38, 0.26, 0.26],\n",
              "       [0.55, 0.59, 0.1 ],\n",
              "       [0.99, 0.62, 0.18],\n",
              "       [0.4 , 0.69, 0.85]])"
            ]
          },
          "execution_count": 75,
          "metadata": {},
          "output_type": "execute_result"
        }
      ],
      "source": [
        "arr=np.random.uniform(0,1,(5,3))\n",
        "np.around(arr,2)"
      ]
    }
  ],
  "metadata": {
    "colab": {
      "provenance": []
    },
    "kernelspec": {
      "display_name": "Python 3",
      "name": "python3"
    },
    "language_info": {
      "codemirror_mode": {
        "name": "ipython",
        "version": 3
      },
      "file_extension": ".py",
      "mimetype": "text/x-python",
      "name": "python",
      "nbconvert_exporter": "python",
      "pygments_lexer": "ipython3",
      "version": "3.10.10"
    }
  },
  "nbformat": 4,
  "nbformat_minor": 0
}
