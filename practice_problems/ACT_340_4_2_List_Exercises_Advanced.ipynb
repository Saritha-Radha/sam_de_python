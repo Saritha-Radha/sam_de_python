{
<<<<<<< HEAD
  "cells": [
    {
      "cell_type": "markdown",
      "metadata": {
        "id": "qK41rEENgA65"
      },
=======
  "nbformat": 4,
  "nbformat_minor": 0,
  "metadata": {
    "colab": {
      "provenance": []
    },
    "kernelspec": {
      "name": "python3",
      "display_name": "Python 3"
    },
    "language_info": {
      "name": "python"
    }
  },
  "cells": [
    {
      "cell_type": "markdown",
>>>>>>> 6948ae5052543e06831eeb452881865755aced7a
      "source": [
        "# List Excercises- Advanced\n",
        "\n",
        "Complete the following practice excercises below to build up your skills with manipulating lists."
<<<<<<< HEAD
      ]
    },
    {
      "cell_type": "markdown",
      "metadata": {
        "id": "Q2j3l_wyf-UH"
      },
=======
      ],
      "metadata": {
        "id": "qK41rEENgA65"
      }
    },
    {
      "cell_type": "markdown",
>>>>>>> 6948ae5052543e06831eeb452881865755aced7a
      "source": [
        "**Problem 1**\n",
        "\n",
        "\n",
        "\n",
        "*   Using the list below, use a Class method to add the string \"skirt\" to the end of the list.\n",
        "\n"
<<<<<<< HEAD
      ]
    },
    {
      "cell_type": "code",
      "execution_count": 1,
      "metadata": {
        "id": "hbDcD9R0fiJd"
      },
      "outputs": [
        {
          "name": "stdout",
          "output_type": "stream",
          "text": [
            "['socks', 'pants', 'shirt', 'polo', 'skirt']\n"
          ]
        }
      ],
      "source": [
        "clothing= ['socks', 'pants', 'shirt', 'polo']\n",
        "clothing.append('skirt')\n",
        "print(clothing)"
      ]
    },
    {
      "cell_type": "markdown",
      "metadata": {
        "id": "y356o0Fjf5F_"
      },
=======
      ],
      "metadata": {
        "id": "Q2j3l_wyf-UH"
      }
    },
    {
      "cell_type": "code",
      "source": [
        "clothing= ['socks', 'pants', 'shirt', 'polo']"
      ],
      "metadata": {
        "id": "hbDcD9R0fiJd"
      },
      "execution_count": null,
      "outputs": []
    },
    {
      "cell_type": "markdown",
>>>>>>> 6948ae5052543e06831eeb452881865755aced7a
      "source": [
        "**Problem 2**\n",
        "\n",
        "\n",
        "\n",
        "*   Using the same list as above, add a list to the 2nd index that includes the following strings:\n",
        "> 'suit jacket', 'suit pants', 'tie', 'button down'\n",
        "\n",
        "\n",
        "\n"
<<<<<<< HEAD
      ]
    },
    {
      "cell_type": "code",
      "execution_count": 2,
      "metadata": {
        "id": "nWyQ5oVmghJz"
      },
      "outputs": [
        {
          "name": "stdout",
          "output_type": "stream",
          "text": [
            "['socks', 'pants', ['suit jacket', 'suit pants', 'tie', 'button down'], 'polo', 'skirt']\n"
          ]
        }
      ],
      "source": [
        "list1=['suit jacket','suit pants','tie','button down']\n",
        "clothing[2]=list1\n",
        "print(clothing)"
      ]
    },
    {
      "cell_type": "markdown",
      "metadata": {
        "id": "ibOLVpd9ghnV"
      },
=======
      ],
      "metadata": {
        "id": "y356o0Fjf5F_"
      }
    },
    {
      "cell_type": "code",
      "source": [],
      "metadata": {
        "id": "nWyQ5oVmghJz"
      },
      "execution_count": null,
      "outputs": []
    },
    {
      "cell_type": "markdown",
>>>>>>> 6948ae5052543e06831eeb452881865755aced7a
      "source": [
        "**Problem 3**\n",
        "\n",
        "\n",
        "\n",
        "*   Use the list below and use a Class method to get the total number of times the integer 14 appears in the list.\n",
        "\n"
<<<<<<< HEAD
      ]
    },
    {
      "cell_type": "code",
      "execution_count": 4,
      "metadata": {
        "id": "uew5D-NjgzGu"
      },
      "outputs": [
        {
          "name": "stdout",
          "output_type": "stream",
          "text": [
            "4\n"
          ]
        }
      ],
      "source": [
        "nums= [2, 150, 14, 36, 78, 81, 14, 1000, 54, 14, 14]\n",
        "count=nums.count(14)\n",
        "print(count)"
      ]
    },
    {
      "cell_type": "markdown",
      "metadata": {
        "id": "06UCPuTZhCfh"
      },
=======
      ],
      "metadata": {
        "id": "ibOLVpd9ghnV"
      }
    },
    {
      "cell_type": "code",
      "source": [
        "nums= [2, 150, 14, 36, 78, 81, 14, 1000, 54, 14, 14]"
      ],
      "metadata": {
        "id": "uew5D-NjgzGu"
      },
      "execution_count": null,
      "outputs": []
    },
    {
      "cell_type": "markdown",
>>>>>>> 6948ae5052543e06831eeb452881865755aced7a
      "source": [
        "**Problem 4**\n",
        "\n",
        "\n",
        "*  Use the same list as above\n",
        "*  Use a built-in function to find the total of all the numbers in the list.\n",
        "\n"
<<<<<<< HEAD
      ]
    },
    {
      "cell_type": "code",
      "execution_count": 6,
      "metadata": {
        "id": "uvbtynLshN7h"
      },
      "outputs": [
        {
          "name": "stdout",
          "output_type": "stream",
          "text": [
            "1457\n"
          ]
        }
      ],
      "source": [
        "total=sum(nums)\n",
        "print(total)"
      ]
    },
    {
      "cell_type": "markdown",
      "metadata": {
        "id": "2y7Vph1ThSqQ"
      },
=======
      ],
      "metadata": {
        "id": "06UCPuTZhCfh"
      }
    },
    {
      "cell_type": "code",
      "source": [],
      "metadata": {
        "id": "uvbtynLshN7h"
      },
      "execution_count": null,
      "outputs": []
    },
    {
      "cell_type": "markdown",
>>>>>>> 6948ae5052543e06831eeb452881865755aced7a
      "source": [
        "**Problem 5**\n",
        "\n",
        "\n",
        "\n",
        "*   Use the same list as above\n",
        "*   Slice the list so that it is reversed without using the .reverse() method\n",
        "\n"
<<<<<<< HEAD
      ]
    },
    {
      "cell_type": "code",
      "execution_count": 7,
      "metadata": {
        "id": "jFRwVKvyh6ip"
      },
      "outputs": [
        {
          "name": "stdout",
          "output_type": "stream",
          "text": [
            "[14, 14, 54, 1000, 14, 81, 78, 36, 14, 150, 2]\n"
          ]
        }
      ],
      "source": [
        "print(nums[::-1])"
      ]
    },
    {
      "cell_type": "markdown",
      "metadata": {
        "id": "UV5mw3sXh7AL"
      },
=======
      ],
      "metadata": {
        "id": "2y7Vph1ThSqQ"
      }
    },
    {
      "cell_type": "code",
      "source": [],
      "metadata": {
        "id": "jFRwVKvyh6ip"
      },
      "execution_count": null,
      "outputs": []
    },
    {
      "cell_type": "markdown",
>>>>>>> 6948ae5052543e06831eeb452881865755aced7a
      "source": [
        "**Problem 6**\n",
        "\n",
        "\n",
        "\n",
        "*   Use the list below.\n",
        "*   Slice the list so only the last two elements are included in the slice.\n",
        "\n"
<<<<<<< HEAD
      ]
    },
    {
      "cell_type": "code",
      "execution_count": 8,
      "metadata": {
        "id": "1gj4O32HiLg7"
      },
      "outputs": [
        {
          "name": "stdout",
          "output_type": "stream",
          "text": [
            "[4, 5]\n"
          ]
        }
      ],
      "source": [
        "one_to_five= [1, 2, 3, 4, 5]\n",
        "print(one_to_five[3:])"
      ]
    },
    {
      "cell_type": "markdown",
      "metadata": {
        "id": "eO_HnwfUic9F"
      },
=======
      ],
      "metadata": {
        "id": "UV5mw3sXh7AL"
      }
    },
    {
      "cell_type": "code",
      "source": [
        "one_to_five= [1, 2, 3, 4, 5]"
      ],
      "metadata": {
        "id": "1gj4O32HiLg7"
      },
      "execution_count": null,
      "outputs": []
    },
    {
      "cell_type": "markdown",
>>>>>>> 6948ae5052543e06831eeb452881865755aced7a
      "source": [
        "**Problem 7**\n",
        "\n",
        "*   Use the list below\n",
        "*   Write a for loop so that every item in the list is printed\n",
        "\n"
<<<<<<< HEAD
      ]
    },
    {
      "cell_type": "code",
      "execution_count": 9,
      "metadata": {
        "id": "oJdo3DfcisLP"
      },
      "outputs": [
        {
          "name": "stdout",
          "output_type": "stream",
          "text": [
            "koala\n",
            "cat\n",
            "fox\n",
            "panda\n",
            "chipmunk\n",
            "sloth\n"
          ]
        }
      ],
      "source": [
        "animals= [\"koala\", \"cat\", \"fox\", \"panda\", \"chipmunk\", \"sloth\"]\n",
        "for animal in animals:\n",
        "    print(animal)"
      ]
    },
    {
      "cell_type": "markdown",
      "metadata": {
        "id": "gmEVvlB5jG7m"
      },
=======
      ],
      "metadata": {
        "id": "eO_HnwfUic9F"
      }
    },
    {
      "cell_type": "code",
      "source": [
        "animals= [\"koala\", \"cat\", \"fox\", \"panda\", \"chipmunk\", \"sloth\"]"
      ],
      "metadata": {
        "id": "oJdo3DfcisLP"
      },
      "execution_count": null,
      "outputs": []
    },
    {
      "cell_type": "markdown",
>>>>>>> 6948ae5052543e06831eeb452881865755aced7a
      "source": [
        "**Problem 8**\n",
        "\n",
        "\n",
        "\n",
        "* Use the list below\n",
        "* Create a function that accepts a list as an argument\n",
        "*   Check if the data type at each index is a list\n",
        "*   If it is a list, check the length of the list. If it is greater than 3, add the second element to a new list.\n",
        "*   Return the new list\n",
        "\n",
        "\n",
        "\n",
        "\n",
        "\n"
<<<<<<< HEAD
      ]
    },
    {
      "cell_type": "code",
      "execution_count": 16,
      "metadata": {
        "id": "RDlz_hkCj08s"
      },
      "outputs": [
        {
          "name": "stdout",
          "output_type": "stream",
          "text": [
            "['you', 'win']\n"
          ]
        }
      ],
      "source": [
        "random_things= ['hello', ['breakfast', 'you', 'pencil', 2], 22, ['burrito', 'taco'],\n",
        "                [22, 'win', 33, [5], 'laptop']]\n",
        "createdlist=[]\n",
        "def listoper(newlist):\n",
        "    for item in newlist:\n",
        "        if type(item)==list:\n",
        "            size=len(item)\n",
        "            if size>3:\n",
        "                createdlist.append(item[1])\n",
        "    return createdlist\n",
        "\n",
        "print(listoper(random_things))"
      ]
    },
    {
      "cell_type": "code",
      "execution_count": 14,
      "metadata": {},
      "outputs": [
        {
          "data": {
            "text/plain": [
              "list"
            ]
          },
          "execution_count": 14,
          "metadata": {},
          "output_type": "execute_result"
        }
      ],
      "source": [
        "random_things= ['hello', ['breakfast', 'you', 'pencil', 2], 22, ['burrito', 'taco'],\n",
        "                [22, 'win', 33, [5], 'laptop']]\n",
        "type(random_things)"
      ]
    },
    {
      "cell_type": "markdown",
      "metadata": {
        "id": "WdAG983lk4yc"
      },
=======
      ],
      "metadata": {
        "id": "gmEVvlB5jG7m"
      }
    },
    {
      "cell_type": "code",
      "source": [
        "random_things= ['hello', ['breakfast', 'you', 'pencil', 2], 22, ['burrito', 'taco'],\n",
        "                [22, 'win', 33, [5], 'laptop']]"
      ],
      "metadata": {
        "id": "RDlz_hkCj08s"
      },
      "execution_count": null,
      "outputs": []
    },
    {
      "cell_type": "markdown",
>>>>>>> 6948ae5052543e06831eeb452881865755aced7a
      "source": [
        "**Problem 9**\n",
        "\n",
        "\n",
        "\n",
        "*   Use the list below\n",
        "*   Create a new list\n",
        "*   Use a for loop and the append() method to append each item with a Dr. prefix to the new list.\n",
        "\n",
        "\n",
        "\n",
        "\n"
<<<<<<< HEAD
      ]
    },
    {
      "cell_type": "code",
      "execution_count": 17,
      "metadata": {
        "id": "jRp_K6kOlTDx"
      },
      "outputs": [
        {
          "name": "stdout",
          "output_type": "stream",
          "text": [
            "['Dr.Dre', 'Dr.Seuss', 'Dr.Who', 'Dr.McCoy']\n"
          ]
        }
      ],
      "source": [
        "names= ['Dre', 'Seuss', 'Who', 'McCoy']\n",
        "newlist=[]\n",
        "for item in names:\n",
        "    newlist.append('Dr.'+item)\n",
        "print(newlist)"
      ]
    },
    {
      "cell_type": "markdown",
      "metadata": {
        "id": "aHfC8mXulwEl"
      },
=======
      ],
      "metadata": {
        "id": "WdAG983lk4yc"
      }
    },
    {
      "cell_type": "code",
      "source": [
        "names= ['Dre', 'Seuss', 'Who', 'McCoy']"
      ],
      "metadata": {
        "id": "jRp_K6kOlTDx"
      },
      "execution_count": null,
      "outputs": []
    },
    {
      "cell_type": "markdown",
>>>>>>> 6948ae5052543e06831eeb452881865755aced7a
      "source": [
        "**Problem 10**\n",
        "\n",
        "\n",
        "\n",
        "*   Use the list below\n",
        "*   Use a while loop, iterate through the list and if there is an integer 100, print a message that says what index the 100 is at\n",
        "*   Example: \"There is a 100 at index no: 5\"\n",
        "\n",
        "\n",
        "\n",
        "\n",
        "\n"
<<<<<<< HEAD
      ]
    },
    {
      "cell_type": "code",
      "execution_count": 18,
      "metadata": {
        "id": "psW443glmlVe"
      },
      "outputs": [
        {
          "name": "stdout",
          "output_type": "stream",
          "text": [
            "There is a 100 at index no:7\n"
          ]
        }
      ],
      "source": [
        "num2= [10, 99, 85, 76, 43, 2, 77, 100, 13, 12, 42, 99, -1, -100]\n",
        "i=0\n",
        "while i<len(num2):\n",
        "    if num2[i]==100:\n",
        "        print(\"There is a 100 at index no:{}\".format(i))\n",
        "    i+=1"
      ]
    },
    {
      "cell_type": "markdown",
      "metadata": {
        "id": "zV4_y6n8mzL9"
      },
=======
      ],
      "metadata": {
        "id": "aHfC8mXulwEl"
      }
    },
    {
      "cell_type": "code",
      "source": [
        "num2= [10, 99, 85, 76, 43, 2, 77, 100, 13, 12, 42, 99, -1, -100]"
      ],
      "metadata": {
        "id": "psW443glmlVe"
      },
      "execution_count": null,
      "outputs": []
    },
    {
      "cell_type": "markdown",
>>>>>>> 6948ae5052543e06831eeb452881865755aced7a
      "source": [
        "**Problem 11**\n",
        "\n",
        "\n",
        "\n",
        "\n",
        "*   Use the list below\n",
        "*   Create a new list\n",
        "*   Use a for loop or a whole loop to iterate through the list and append all the elements in the old list, to the new list UNLESS the element is an empty string\n",
        "\n",
        "\n"
<<<<<<< HEAD
      ]
    },
    {
      "cell_type": "code",
      "execution_count": 19,
      "metadata": {
        "id": "vCGbxhKXnKjM"
      },
      "outputs": [
        {
          "name": "stdout",
          "output_type": "stream",
          "text": [
            "[\"McDonald's\", \"Wendy's\", 'Burger King', 'Taco Bell']\n"
          ]
        }
      ],
      "source": [
        "list1= [\"McDonald's\", \"Wendy's\", \"\", \"Burger King\", \"\", \"Taco Bell\"]\n",
        "newlist=[]\n",
        "for item in list1:\n",
        "    if item !=\"\":\n",
        "        newlist.append(item)\n",
        "print(newlist)"
      ]
    },
    {
      "cell_type": "markdown",
      "metadata": {
        "id": "yPurohASnUVy"
      },
      "source": []
    }
  ],
  "metadata": {
    "colab": {
      "provenance": []
    },
    "kernelspec": {
      "display_name": "Python 3",
      "name": "python3"
    },
    "language_info": {
      "codemirror_mode": {
        "name": "ipython",
        "version": 3
      },
      "file_extension": ".py",
      "mimetype": "text/x-python",
      "name": "python",
      "nbconvert_exporter": "python",
      "pygments_lexer": "ipython3",
      "version": "3.10.10"
    }
  },
  "nbformat": 4,
  "nbformat_minor": 0
}
=======
      ],
      "metadata": {
        "id": "zV4_y6n8mzL9"
      }
    },
    {
      "cell_type": "code",
      "source": [
        "list1= [\"McDonald's\", \"Wendy's\", \"\", \"Burger King\", \"\", \"Taco Bell\"]"
      ],
      "metadata": {
        "id": "vCGbxhKXnKjM"
      },
      "execution_count": null,
      "outputs": []
    },
    {
      "cell_type": "markdown",
      "source": [],
      "metadata": {
        "id": "yPurohASnUVy"
      }
    }
  ]
}
>>>>>>> 6948ae5052543e06831eeb452881865755aced7a
